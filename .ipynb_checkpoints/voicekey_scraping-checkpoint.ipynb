{
 "cells": [
  {
   "cell_type": "code",
   "execution_count": 35,
   "id": "f4cda6a7-ab10-408c-8c88-0d0c3eda2da7",
   "metadata": {
    "tags": []
   },
   "outputs": [
    {
     "name": "stdout",
     "output_type": "stream",
     "text": [
      "11\n",
      "10\n",
      "Ado\n",
      "Aqua Timez\n",
      "20\n",
      "GReeeeN\n"
     ]
    },
    {
     "ename": "KeyboardInterrupt",
     "evalue": "",
     "output_type": "error",
     "traceback": [
      "\u001b[0;31m---------------------------------------------------------------------------\u001b[0m",
      "\u001b[0;31mKeyboardInterrupt\u001b[0m                         Traceback (most recent call last)",
      "Cell \u001b[0;32mIn[35], line 29\u001b[0m\n\u001b[1;32m     27\u001b[0m \u001b[38;5;28mprint\u001b[39m(a_tag\u001b[38;5;241m.\u001b[39mtext)\n\u001b[1;32m     28\u001b[0m exit()\n\u001b[0;32m---> 29\u001b[0m time\u001b[38;5;241m.\u001b[39msleep(\u001b[38;5;241m2\u001b[39m)\n\u001b[1;32m     30\u001b[0m artist_url \u001b[38;5;241m=\u001b[39m a_tag\u001b[38;5;241m.\u001b[39mget(\u001b[38;5;124m'\u001b[39m\u001b[38;5;124mhref\u001b[39m\u001b[38;5;124m'\u001b[39m)\n\u001b[1;32m     31\u001b[0m response \u001b[38;5;241m=\u001b[39m requests\u001b[38;5;241m.\u001b[39mget(artist_url)\n",
      "\u001b[0;31mKeyboardInterrupt\u001b[0m: "
     ]
    }
   ],
   "source": [
    "import requests\n",
    "from bs4 import BeautifulSoup\n",
    "import time \n",
    "import pandas as pd\n",
    "\n",
    "# スクレイピング対象のページURL\n",
    "base_url = \"https://voice-key.news/artist-key/\"\n",
    "response = requests.get(base_url)\n",
    "soup = BeautifulSoup(response.text, 'html.parser')\n",
    "\n",
    "dls = soup.find_all('dl', {'class': 'accordionBox'})\n",
    "\n",
    "\n",
    "singer_name_list, song_name_list, sound_low_list, sound_high_list, sound_super_high_list, = [],[],[],[],[]\n",
    "\n",
    "# 1から始めるのは閲覧数の多いアーティストが0番目なので\n",
    "# まずはあ行のアーティスト\n",
    "for i,dl in enumerate(dls[1:]):\n",
    "    print((i+1) * 10 )\n",
    "    # aタグを全て取得、X行のアーティスト\n",
    "    a_tags = dl.find_all('a')\n",
    "    \n",
    "\n",
    "    for a_tag in a_tags[:2]:\n",
    "        s0 = a_tag.text #artist\n",
    "        \n",
    "        time.sleep(2)\n",
    "        artist_url = a_tag.get('href')\n",
    "        response = requests.get(artist_url)\n",
    "        soup = BeautifulSoup(response.text, 'html.parser')\n",
    "\n",
    "        song_list_div = soup.find('tbody', {'class': 'row-hover'})\n",
    "\n",
    "        song_name = song_list_div.find_all('td', {'class': 'column-1'})\n",
    "        sound_low = song_list_div.find_all('td', {'class': 'column-2'})\n",
    "        sound_high = song_list_div.find_all('td', {'class': 'column-3'})\n",
    "        sound_super_high = song_list_div.find_all('td', {'class': 'column-4'})\n",
    "\n",
    "        for s1,s2,s3,s4 in zip(song_name,sound_low,sound_high,sound_super_high):\n",
    "            singer_name_list.append(s0)\n",
    "            song_name_list.append(s1.text)\n",
    "            sound_low_list.append(s2.text)\n",
    "            sound_high_list.append(s3.text)\n",
    "            sound_super_high_list.append(s4.text)\n",
    "            \n",
    "\n",
    "df = pd.DataFrame([singer_name_list,song_name_list, sound_low_list, sound_high_list, sound_super_high_list]).T\n",
    "df.columns = ['singer','song','low','high','super_high']\n",
    "df.to_csv('song_data.csv', index = False)     "
   ]
  },
  {
   "cell_type": "code",
   "execution_count": 31,
   "id": "fa6c646a-3685-4525-ba22-4473a3548128",
   "metadata": {
    "tags": []
   },
   "outputs": [],
   "source": []
  },
  {
   "cell_type": "code",
   "execution_count": null,
   "id": "c82de0dc-470f-43f3-be82-fce7afc142a5",
   "metadata": {
    "tags": []
   },
   "outputs": [],
   "source": []
  },
  {
   "cell_type": "code",
   "execution_count": null,
   "id": "1f2d1e93-aac6-443f-a224-1fb29425302d",
   "metadata": {},
   "outputs": [],
   "source": []
  },
  {
   "cell_type": "code",
   "execution_count": null,
   "id": "994c2556-6843-4b8d-a929-7a3cbf032f83",
   "metadata": {
    "tags": []
   },
   "outputs": [],
   "source": []
  },
  {
   "cell_type": "code",
   "execution_count": null,
   "id": "62bc2971-53e0-4e54-b240-d2c093e8a042",
   "metadata": {
    "tags": []
   },
   "outputs": [],
   "source": []
  },
  {
   "cell_type": "code",
   "execution_count": null,
   "id": "650d223c-f061-4726-b858-60b05e575737",
   "metadata": {},
   "outputs": [],
   "source": []
  }
 ],
 "metadata": {
  "kernelspec": {
   "display_name": "Python 3 (ipykernel)",
   "language": "python",
   "name": "python3"
  },
  "language_info": {
   "codemirror_mode": {
    "name": "ipython",
    "version": 3
   },
   "file_extension": ".py",
   "mimetype": "text/x-python",
   "name": "python",
   "nbconvert_exporter": "python",
   "pygments_lexer": "ipython3",
   "version": "3.11.2"
  }
 },
 "nbformat": 4,
 "nbformat_minor": 5
}
