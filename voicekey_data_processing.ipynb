{
 "cells": [
  {
   "cell_type": "code",
   "execution_count": 11,
   "id": "581f7f5d-4c31-4348-8d3a-4f2b7293148b",
   "metadata": {
    "tags": []
   },
   "outputs": [
    {
     "data": {
      "text/html": [
       "<div>\n",
       "<style scoped>\n",
       "    .dataframe tbody tr th:only-of-type {\n",
       "        vertical-align: middle;\n",
       "    }\n",
       "\n",
       "    .dataframe tbody tr th {\n",
       "        vertical-align: top;\n",
       "    }\n",
       "\n",
       "    .dataframe thead th {\n",
       "        text-align: right;\n",
       "    }\n",
       "</style>\n",
       "<table border=\"1\" class=\"dataframe\">\n",
       "  <thead>\n",
       "    <tr style=\"text-align: right;\">\n",
       "      <th></th>\n",
       "      <th>singer</th>\n",
       "      <th>song</th>\n",
       "      <th>low</th>\n",
       "      <th>high</th>\n",
       "      <th>super_high</th>\n",
       "    </tr>\n",
       "  </thead>\n",
       "  <tbody>\n",
       "    <tr>\n",
       "      <th>0</th>\n",
       "      <td>Ado</td>\n",
       "      <td>新時代(ウタ from ONE PIECE FILM RED)</td>\n",
       "      <td>2mid1E</td>\n",
       "      <td>3hiD</td>\n",
       "      <td>3hiF#</td>\n",
       "    </tr>\n",
       "    <tr>\n",
       "      <th>1</th>\n",
       "      <td>Ado</td>\n",
       "      <td>私は最強(ウタ from ONE PIECE FILM RED)</td>\n",
       "      <td>2mid2A</td>\n",
       "      <td>3hiD</td>\n",
       "      <td>3hiE</td>\n",
       "    </tr>\n",
       "    <tr>\n",
       "      <th>2</th>\n",
       "      <td>Ado</td>\n",
       "      <td>逆光(ウタ from ONE PIECE FILM RED)</td>\n",
       "      <td>2mid1G#</td>\n",
       "      <td>3hiC#</td>\n",
       "      <td>2mid2G#</td>\n",
       "    </tr>\n",
       "    <tr>\n",
       "      <th>3</th>\n",
       "      <td>Ado</td>\n",
       "      <td>ウタカタララバイ</td>\n",
       "      <td>2mid2A#</td>\n",
       "      <td>3hiD#</td>\n",
       "      <td>3hihiC#</td>\n",
       "    </tr>\n",
       "    <tr>\n",
       "      <th>4</th>\n",
       "      <td>Ado</td>\n",
       "      <td>うっせぇわ</td>\n",
       "      <td>2mid2A</td>\n",
       "      <td>3hiD#</td>\n",
       "      <td>3hiC</td>\n",
       "    </tr>\n",
       "    <tr>\n",
       "      <th>...</th>\n",
       "      <td>...</td>\n",
       "      <td>...</td>\n",
       "      <td>...</td>\n",
       "      <td>...</td>\n",
       "      <td>...</td>\n",
       "    </tr>\n",
       "    <tr>\n",
       "      <th>641</th>\n",
       "      <td>wacci</td>\n",
       "      <td>ヒーロー</td>\n",
       "      <td>2mid1A#</td>\n",
       "      <td>2mid2G#</td>\n",
       "      <td>2mid2G#</td>\n",
       "    </tr>\n",
       "    <tr>\n",
       "      <th>642</th>\n",
       "      <td>wacci</td>\n",
       "      <td>坂道</td>\n",
       "      <td>2mid1B</td>\n",
       "      <td>2mid2G#</td>\n",
       "      <td>2mid2G#</td>\n",
       "    </tr>\n",
       "    <tr>\n",
       "      <th>643</th>\n",
       "      <td>wacci</td>\n",
       "      <td>夏休み</td>\n",
       "      <td>2mid1D#</td>\n",
       "      <td>2mid2G#</td>\n",
       "      <td>2mid2G#</td>\n",
       "    </tr>\n",
       "    <tr>\n",
       "      <th>644</th>\n",
       "      <td>wacci</td>\n",
       "      <td>誰ニモマケズ</td>\n",
       "      <td>2mid1E</td>\n",
       "      <td>3hiA</td>\n",
       "      <td>3hiA</td>\n",
       "    </tr>\n",
       "    <tr>\n",
       "      <th>645</th>\n",
       "      <td>wacci</td>\n",
       "      <td>サンタクロースを僕に</td>\n",
       "      <td>2mid1A#</td>\n",
       "      <td>2mid2G#</td>\n",
       "      <td>3hiC</td>\n",
       "    </tr>\n",
       "  </tbody>\n",
       "</table>\n",
       "<p>646 rows × 5 columns</p>\n",
       "</div>"
      ],
      "text/plain": [
       "    singer                              song      low     high super_high\n",
       "0      Ado   新時代(ウタ from ONE PIECE FILM RED)   2mid1E     3hiD      3hiF#\n",
       "1      Ado  私は最強(ウタ from ONE PIECE FILM RED)   2mid2A     3hiD       3hiE\n",
       "2      Ado    逆光(ウタ from ONE PIECE FILM RED)  2mid1G#    3hiC#    2mid2G#\n",
       "3      Ado                          ウタカタララバイ  2mid2A#    3hiD#    3hihiC#\n",
       "4      Ado                             うっせぇわ   2mid2A    3hiD#       3hiC\n",
       "..     ...                               ...      ...      ...        ...\n",
       "641  wacci                              ヒーロー  2mid1A#  2mid2G#    2mid2G#\n",
       "642  wacci                                坂道   2mid1B  2mid2G#    2mid2G#\n",
       "643  wacci                               夏休み  2mid1D#  2mid2G#    2mid2G#\n",
       "644  wacci                            誰ニモマケズ   2mid1E     3hiA       3hiA\n",
       "645  wacci                        サンタクロースを僕に  2mid1A#  2mid2G#       3hiC\n",
       "\n",
       "[646 rows x 5 columns]"
      ]
     },
     "execution_count": 11,
     "metadata": {},
     "output_type": "execute_result"
    }
   ],
   "source": [
    "import pandas as pd\n",
    " \n",
    "# df.columns = ['song','low','high','super_high']\n",
    "df = pd.read_csv('song_data.csv')\n",
    "\n",
    "df['super_high'] = df.apply(lambda x: x['high'] if pd.isnull(x['super_high']) else x['super_high'], axis=1)\n",
    "df"
   ]
  },
  {
   "cell_type": "code",
   "execution_count": 4,
   "id": "ad59d556-5943-4a42-b761-174de51ee43d",
   "metadata": {
    "tags": []
   },
   "outputs": [
    {
     "data": {
      "text/plain": [
       "[4318414864, 4318131664]"
      ]
     },
     "execution_count": 4,
     "metadata": {},
     "output_type": "execute_result"
    }
   ],
   "source": []
  },
  {
   "cell_type": "code",
   "execution_count": null,
   "id": "0c8a022c-ee53-4537-a308-76589f4b6686",
   "metadata": {},
   "outputs": [],
   "source": []
  }
 ],
 "metadata": {
  "kernelspec": {
   "display_name": "Python 3 (ipykernel)",
   "language": "python",
   "name": "python3"
  },
  "language_info": {
   "codemirror_mode": {
    "name": "ipython",
    "version": 3
   },
   "file_extension": ".py",
   "mimetype": "text/x-python",
   "name": "python",
   "nbconvert_exporter": "python",
   "pygments_lexer": "ipython3",
   "version": "3.11.2"
  }
 },
 "nbformat": 4,
 "nbformat_minor": 5
}
